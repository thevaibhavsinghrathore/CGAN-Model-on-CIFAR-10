{
 "cells": [
  {
   "cell_type": "code",
   "execution_count": 25,
   "metadata": {},
   "outputs": [],
   "source": [
    "import numpy as np\n",
    "import matplotlib.pyplot as plt\n",
    "import tensorflow as tf\n",
    "from tensorflow.keras import layers # type: ignore\n",
    "from tensorflow.keras.datasets import cifar10 # type: ignore"
   ]
  },
  {
   "cell_type": "code",
   "execution_count": 26,
   "metadata": {},
   "outputs": [],
   "source": [
    "#Load CIFAR-10\n",
    "(x_train, y_train), (_, _) = cifar10.load_data()"
   ]
  },
  {
   "cell_type": "code",
   "execution_count": 27,
   "metadata": {},
   "outputs": [],
   "source": [
    "# Normalize to [-1, 1] for tanh activation\n",
    "x_train = (x_train.astype(\"float32\") - 127.5) / 127.5\n",
    "y_train = y_train.reshape(-1)"
   ]
  },
  {
   "cell_type": "code",
   "execution_count": 28,
   "metadata": {},
   "outputs": [],
   "source": [
    "#Define Model Parameters\n",
    "\n",
    "num_classes = 10\n",
    "image_shape = (32, 32, 3)\n",
    "noise_dim = 100"
   ]
  },
  {
   "cell_type": "code",
   "execution_count": 29,
   "metadata": {},
   "outputs": [],
   "source": [
    "def build_generator():\n",
    "    noise = layers.Input(shape=(noise_dim,))\n",
    "    label = layers.Input(shape=(1,), dtype='int32')\n",
    "\n",
    "    label_embedding = layers.Embedding(num_classes, noise_dim)(label)\n",
    "    label_embedding = layers.Flatten()(label_embedding)\n",
    "    combined_input = layers.multiply([noise, label_embedding])\n",
    "\n",
    "    x = layers.Dense(2*2*512, activation=\"relu\")(combined_input)\n",
    "    x = layers.Reshape((2, 2, 512))(x)\n",
    "    x = layers.Conv2DTranspose(256, 4, strides=2, padding='same', activation='relu')(x)\n",
    "    x = layers.Conv2DTranspose(128, 4, strides=2, padding='same', activation='relu')(x)\n",
    "    x = layers.Conv2DTranspose(64, 4, strides=2, padding='same', activation='relu')(x)\n",
    "    x = layers.Conv2DTranspose(3, 4, strides=2, padding='same', activation='tanh')(x)\n",
    "\n",
    "    return tf.keras.Model([noise, label], x)\n"
   ]
  },
  {
   "cell_type": "code",
   "execution_count": 30,
   "metadata": {},
   "outputs": [],
   "source": [
    "def build_discriminator():\n",
    "    img = layers.Input(shape=image_shape)\n",
    "    label = layers.Input(shape=(1,), dtype='int32')\n",
    "\n",
    "    label_embedding = layers.Embedding(num_classes, np.prod(image_shape))(label)\n",
    "    label_embedding = layers.Flatten()(label_embedding)\n",
    "    label_embedding = layers.Reshape(image_shape)(label_embedding)\n",
    "\n",
    "    combined_input = layers.Concatenate()([img, label_embedding])\n",
    "\n",
    "    x = layers.Conv2D(64, 3, strides=2, padding='same')(combined_input)\n",
    "    x = layers.LeakyReLU(0.2)(x)\n",
    "    x = layers.Conv2D(128, 3, strides=2, padding='same')(x)\n",
    "    x = layers.LeakyReLU(0.2)(x)\n",
    "    x = layers.Flatten()(x)\n",
    "    x = layers.Dense(1, activation='sigmoid')(x)\n",
    "\n",
    "    return tf.keras.Model([img, label], x)\n"
   ]
  },
  {
   "cell_type": "code",
   "execution_count": 31,
   "metadata": {},
   "outputs": [],
   "source": [
    "generator = build_generator()\n",
    "discriminator = build_discriminator()\n",
    "\n",
    "discriminator.compile(loss='binary_crossentropy', optimizer='adam', metrics=['accuracy'])\n",
    "\n",
    "noise_input = layers.Input(shape=(noise_dim,))\n",
    "label_input = layers.Input(shape=(1,))\n",
    "generated_image = generator([noise_input, label_input])\n",
    "\n",
    "discriminator.trainable = False\n",
    "validity = discriminator([generated_image, label_input])\n",
    "\n",
    "cgan = tf.keras.Model([noise_input, label_input], validity)\n",
    "cgan.compile(loss='binary_crossentropy', optimizer='adam')\n"
   ]
  },
  {
   "cell_type": "code",
   "execution_count": 32,
   "metadata": {},
   "outputs": [],
   "source": [
    "def train(epochs, batch_size=64):\n",
    "    for epoch in range(epochs):\n",
    "        idx = np.random.randint(0, x_train.shape[0], batch_size)\n",
    "        real_imgs = x_train[idx]\n",
    "        real_labels = y_train[idx]\n",
    "\n",
    "        noise = np.random.normal(0, 1, (batch_size, noise_dim))\n",
    "        fake_labels = np.random.randint(0, num_classes, batch_size).reshape(-1, 1)\n",
    "        fake_imgs = generator.predict([noise, fake_labels], verbose=0)\n",
    "\n",
    "        d_loss_real = discriminator.train_on_batch([real_imgs, real_labels], np.ones((batch_size, 1)))\n",
    "        d_loss_fake = discriminator.train_on_batch([fake_imgs, fake_labels], np.zeros((batch_size, 1)))\n",
    "        d_loss = 0.5 * np.add(d_loss_real, d_loss_fake)\n",
    "\n",
    "        noise = np.random.normal(0, 1, (batch_size, noise_dim))\n",
    "        sampled_labels = np.random.randint(0, num_classes, batch_size).reshape(-1, 1)\n",
    "        g_loss = cgan.train_on_batch([noise, sampled_labels], np.ones((batch_size, 1)))\n",
    "\n",
    "        if epoch % 100 == 0:\n",
    "            print(f\"Epoch {epoch} | D loss: {d_loss[0]:.4f}, D acc: {d_loss[1]:.2f} | G loss: {g_loss:.4f}\")\n"
   ]
  },
  {
   "cell_type": "code",
   "execution_count": 33,
   "metadata": {},
   "outputs": [
    {
     "name": "stdout",
     "output_type": "stream",
     "text": [
      "Epoch 0 | D loss: 0.7034, D acc: 0.41 | G loss: 0.6930\n",
      "Epoch 100 | D loss: 1.7789, D acc: 0.18 | G loss: 0.1345\n",
      "Epoch 200 | D loss: 2.0017, D acc: 0.18 | G loss: 0.0795\n",
      "Epoch 300 | D loss: 2.0909, D acc: 0.18 | G loss: 0.0603\n",
      "Epoch 400 | D loss: 2.1407, D acc: 0.18 | G loss: 0.0505\n",
      "Epoch 500 | D loss: 2.1724, D acc: 0.18 | G loss: 0.0445\n",
      "Epoch 600 | D loss: 2.1937, D acc: 0.18 | G loss: 0.0405\n",
      "Epoch 700 | D loss: 2.2098, D acc: 0.18 | G loss: 0.0377\n",
      "Epoch 800 | D loss: 2.2226, D acc: 0.18 | G loss: 0.0355\n",
      "Epoch 900 | D loss: 2.2330, D acc: 0.18 | G loss: 0.0337\n",
      "Epoch 1000 | D loss: 2.2424, D acc: 0.18 | G loss: 0.0323\n",
      "Epoch 1100 | D loss: 2.2504, D acc: 0.18 | G loss: 0.0311\n",
      "Epoch 1200 | D loss: 2.2571, D acc: 0.18 | G loss: 0.0301\n",
      "Epoch 1300 | D loss: 2.2628, D acc: 0.18 | G loss: 0.0293\n",
      "Epoch 1400 | D loss: 2.2677, D acc: 0.18 | G loss: 0.0286\n",
      "Epoch 1500 | D loss: 2.2720, D acc: 0.18 | G loss: 0.0280\n",
      "Epoch 1600 | D loss: 2.2762, D acc: 0.18 | G loss: 0.0274\n",
      "Epoch 1700 | D loss: 2.2806, D acc: 0.18 | G loss: 0.0269\n",
      "Epoch 1800 | D loss: 2.2845, D acc: 0.18 | G loss: 0.0264\n",
      "Epoch 1900 | D loss: 2.2891, D acc: 0.18 | G loss: 0.0260\n",
      "Epoch 2000 | D loss: 2.2956, D acc: 0.18 | G loss: 0.0255\n",
      "Epoch 2100 | D loss: 2.3020, D acc: 0.18 | G loss: 0.0250\n",
      "Epoch 2200 | D loss: 2.3081, D acc: 0.18 | G loss: 0.0246\n",
      "Epoch 2300 | D loss: 2.3139, D acc: 0.18 | G loss: 0.0242\n",
      "Epoch 2400 | D loss: 2.3196, D acc: 0.18 | G loss: 0.0238\n",
      "Epoch 2500 | D loss: 2.3249, D acc: 0.18 | G loss: 0.0235\n",
      "Epoch 2600 | D loss: 2.3299, D acc: 0.18 | G loss: 0.0232\n",
      "Epoch 2700 | D loss: 2.3344, D acc: 0.18 | G loss: 0.0229\n",
      "Epoch 2800 | D loss: 2.3387, D acc: 0.18 | G loss: 0.0226\n",
      "Epoch 2900 | D loss: 2.3427, D acc: 0.18 | G loss: 0.0223\n",
      "Epoch 3000 | D loss: 2.3467, D acc: 0.18 | G loss: 0.0221\n",
      "Epoch 3100 | D loss: 2.3505, D acc: 0.18 | G loss: 0.0218\n",
      "Epoch 3200 | D loss: 2.3540, D acc: 0.18 | G loss: 0.0216\n",
      "Epoch 3300 | D loss: 2.3573, D acc: 0.18 | G loss: 0.0214\n",
      "Epoch 3400 | D loss: 2.3606, D acc: 0.18 | G loss: 0.0212\n",
      "Epoch 3500 | D loss: 2.3637, D acc: 0.18 | G loss: 0.0210\n",
      "Epoch 3600 | D loss: 2.3667, D acc: 0.18 | G loss: 0.0208\n",
      "Epoch 3700 | D loss: 2.3694, D acc: 0.18 | G loss: 0.0207\n",
      "Epoch 3800 | D loss: 2.3720, D acc: 0.18 | G loss: 0.0205\n",
      "Epoch 3900 | D loss: 2.3746, D acc: 0.18 | G loss: 0.0204\n",
      "Epoch 4000 | D loss: 2.3769, D acc: 0.18 | G loss: 0.0202\n",
      "Epoch 4100 | D loss: 2.3792, D acc: 0.18 | G loss: 0.0201\n",
      "Epoch 4200 | D loss: 2.3803, D acc: 0.18 | G loss: 0.0200\n",
      "Epoch 4300 | D loss: 2.3835, D acc: 0.18 | G loss: 0.0198\n",
      "Epoch 4400 | D loss: 2.3870, D acc: 0.18 | G loss: 0.0197\n",
      "Epoch 4500 | D loss: 2.3909, D acc: 0.18 | G loss: 0.0195\n",
      "Epoch 4600 | D loss: 2.3948, D acc: 0.18 | G loss: 0.0193\n",
      "Epoch 4700 | D loss: 2.3985, D acc: 0.18 | G loss: 0.0192\n",
      "Epoch 4800 | D loss: 2.4021, D acc: 0.18 | G loss: 0.0190\n",
      "Epoch 4900 | D loss: 2.4055, D acc: 0.18 | G loss: 0.0189\n",
      "Epoch 5000 | D loss: 2.4088, D acc: 0.18 | G loss: 0.0187\n",
      "Epoch 5100 | D loss: 2.4119, D acc: 0.18 | G loss: 0.0186\n",
      "Epoch 5200 | D loss: 2.4150, D acc: 0.18 | G loss: 0.0185\n",
      "Epoch 5300 | D loss: 2.4179, D acc: 0.18 | G loss: 0.0184\n",
      "Epoch 5400 | D loss: 2.4207, D acc: 0.18 | G loss: 0.0182\n",
      "Epoch 5500 | D loss: 2.4234, D acc: 0.18 | G loss: 0.0181\n",
      "Epoch 5600 | D loss: 2.4260, D acc: 0.18 | G loss: 0.0180\n",
      "Epoch 5700 | D loss: 2.4286, D acc: 0.18 | G loss: 0.0179\n",
      "Epoch 5800 | D loss: 2.4310, D acc: 0.18 | G loss: 0.0178\n",
      "Epoch 5900 | D loss: 2.4334, D acc: 0.18 | G loss: 0.0177\n",
      "Epoch 6000 | D loss: 2.4356, D acc: 0.18 | G loss: 0.0176\n",
      "Epoch 6100 | D loss: 2.4378, D acc: 0.18 | G loss: 0.0175\n",
      "Epoch 6200 | D loss: 2.4400, D acc: 0.18 | G loss: 0.0174\n",
      "Epoch 6300 | D loss: 2.4420, D acc: 0.18 | G loss: 0.0173\n",
      "Epoch 6400 | D loss: 2.4440, D acc: 0.18 | G loss: 0.0173\n",
      "Epoch 6500 | D loss: 2.4460, D acc: 0.18 | G loss: 0.0172\n",
      "Epoch 6600 | D loss: 2.4479, D acc: 0.18 | G loss: 0.0171\n",
      "Epoch 6700 | D loss: 2.4497, D acc: 0.18 | G loss: 0.0170\n",
      "Epoch 6800 | D loss: 2.4515, D acc: 0.18 | G loss: 0.0169\n",
      "Epoch 6900 | D loss: 2.4532, D acc: 0.18 | G loss: 0.0169\n",
      "Epoch 7000 | D loss: 2.4549, D acc: 0.18 | G loss: 0.0168\n",
      "Epoch 7100 | D loss: 2.4566, D acc: 0.18 | G loss: 0.0167\n",
      "Epoch 7200 | D loss: 2.4582, D acc: 0.18 | G loss: 0.0167\n",
      "Epoch 7300 | D loss: 2.4597, D acc: 0.18 | G loss: 0.0166\n",
      "Epoch 7400 | D loss: 2.4612, D acc: 0.18 | G loss: 0.0165\n",
      "Epoch 7500 | D loss: 2.4627, D acc: 0.18 | G loss: 0.0165\n",
      "Epoch 7600 | D loss: 2.4641, D acc: 0.18 | G loss: 0.0164\n",
      "Epoch 7700 | D loss: 2.4655, D acc: 0.18 | G loss: 0.0164\n",
      "Epoch 7800 | D loss: 2.4669, D acc: 0.18 | G loss: 0.0163\n",
      "Epoch 7900 | D loss: 2.4682, D acc: 0.18 | G loss: 0.0162\n",
      "Epoch 8000 | D loss: 2.4694, D acc: 0.18 | G loss: 0.0162\n",
      "Epoch 8100 | D loss: 2.4718, D acc: 0.18 | G loss: 0.0161\n",
      "Epoch 8200 | D loss: 2.4742, D acc: 0.18 | G loss: 0.0160\n",
      "Epoch 8300 | D loss: 2.4765, D acc: 0.18 | G loss: 0.0160\n",
      "Epoch 8400 | D loss: 2.4789, D acc: 0.18 | G loss: 0.0159\n",
      "Epoch 8500 | D loss: 2.4811, D acc: 0.18 | G loss: 0.0158\n",
      "Epoch 8600 | D loss: 2.4834, D acc: 0.18 | G loss: 0.0157\n",
      "Epoch 8700 | D loss: 2.4856, D acc: 0.18 | G loss: 0.0157\n",
      "Epoch 8800 | D loss: 2.4877, D acc: 0.18 | G loss: 0.0156\n",
      "Epoch 8900 | D loss: 2.4898, D acc: 0.18 | G loss: 0.0155\n",
      "Epoch 9000 | D loss: 2.4919, D acc: 0.18 | G loss: 0.0155\n",
      "Epoch 9100 | D loss: 2.4939, D acc: 0.18 | G loss: 0.0154\n",
      "Epoch 9200 | D loss: 2.4959, D acc: 0.18 | G loss: 0.0153\n",
      "Epoch 9300 | D loss: 2.4978, D acc: 0.18 | G loss: 0.0153\n",
      "Epoch 9400 | D loss: 2.4998, D acc: 0.18 | G loss: 0.0152\n",
      "Epoch 9500 | D loss: 2.5017, D acc: 0.18 | G loss: 0.0152\n",
      "Epoch 9600 | D loss: 2.5039, D acc: 0.18 | G loss: 0.0151\n",
      "Epoch 9700 | D loss: 2.5062, D acc: 0.18 | G loss: 0.0150\n",
      "Epoch 9800 | D loss: 2.5083, D acc: 0.18 | G loss: 0.0150\n",
      "Epoch 9900 | D loss: 2.5105, D acc: 0.18 | G loss: 0.0149\n"
     ]
    }
   ],
   "source": [
    "train(epochs=10000, batch_size=64)"
   ]
  },
  {
   "cell_type": "code",
   "execution_count": 34,
   "metadata": {},
   "outputs": [],
   "source": [
    "generator.save(\"cgan_generator_cifar10.keras\")"
   ]
  },
  {
   "cell_type": "code",
   "execution_count": 35,
   "metadata": {},
   "outputs": [],
   "source": [
    "from tensorflow.keras.models import load_model\n",
    "generator = load_model(\"cgan_generator_cifar10.keras\")"
   ]
  },
  {
   "cell_type": "code",
   "execution_count": 36,
   "metadata": {},
   "outputs": [],
   "source": [
    "cifar_classes = ['airplane', 'automobile', 'bird', 'cat', 'deer', \n",
    "                 'dog', 'frog', 'horse', 'ship', 'truck']\n",
    "\n",
    "def generate_images(class_name, num_images=5):\n",
    "    if class_name not in cifar_classes:\n",
    "        print(\"Invalid class name.\")\n",
    "        return\n",
    "    class_idx = cifar_classes.index(class_name)\n",
    "    noise = np.random.normal(0, 1, (num_images, noise_dim))\n",
    "    labels = np.full((num_images, 1), class_idx)\n",
    "\n",
    "    gen_imgs = generator.predict([noise, labels], verbose=0)\n",
    "    gen_imgs = 0.5 * gen_imgs + 0.5  # Rescale to [0, 1]\n",
    "\n",
    "    plt.figure(figsize=(10, 2))\n",
    "    for i in range(num_images):\n",
    "        plt.subplot(1, num_images, i + 1)\n",
    "        plt.imshow(gen_imgs[i])\n",
    "        plt.axis('off')\n",
    "    plt.suptitle(f\"Generated Images of '{class_name}'\")\n",
    "    plt.show()\n"
   ]
  },
  {
   "cell_type": "code",
   "execution_count": 46,
   "metadata": {},
   "outputs": [
    {
     "data": {
      "image/png": "[encoded data removed]",
      "text/plain": [
       "<Figure size 1000x200 with 5 Axes>"
      ]
     },
     "metadata": {},
     "output_type": "display_data"
    }
   ],
   "source": [
    "user_input = input(\"Enter class name: \").strip().lower()\n",
    "generate_images(user_input)"
   ]
  }
 ],
 "metadata": {
  "kernelspec": {
   "display_name": "tf-env",
   "language": "python",
   "name": "python3"
  },
  "language_info": {
   "codemirror_mode": {
    "name": "ipython",
    "version": 3
   },
   "file_extension": ".py",
   "mimetype": "text/x-python",
   "name": "python",
   "nbconvert_exporter": "python",
   "pygments_lexer": "ipython3",
   "version": "3.10.18"
  }
 },
 "nbformat": 4,
 "nbformat_minor": 2
}
